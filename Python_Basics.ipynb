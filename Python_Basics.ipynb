{
 "cells": [
  {
   "cell_type": "markdown",
   "id": "41153ca9",
   "metadata": {},
   "source": [
    "# Basic Operations"
   ]
  },
  {
   "cell_type": "code",
   "execution_count": 1,
   "id": "9c0b201a",
   "metadata": {
    "ExecuteTime": {
     "end_time": "2022-11-09T09:18:31.205067Z",
     "start_time": "2022-11-09T09:18:31.189074Z"
    }
   },
   "outputs": [],
   "source": [
    "#Variable\n",
    "a = 10"
   ]
  },
  {
   "cell_type": "code",
   "execution_count": 2,
   "id": "17f105d8",
   "metadata": {
    "ExecuteTime": {
     "end_time": "2022-11-09T09:18:31.222984Z",
     "start_time": "2022-11-09T09:18:31.209021Z"
    }
   },
   "outputs": [
    {
     "data": {
      "text/plain": [
       "10"
      ]
     },
     "execution_count": 2,
     "metadata": {},
     "output_type": "execute_result"
    }
   ],
   "source": [
    "a"
   ]
  },
  {
   "cell_type": "code",
   "execution_count": 3,
   "id": "7ae513fa",
   "metadata": {
    "ExecuteTime": {
     "end_time": "2022-11-09T09:18:31.235948Z",
     "start_time": "2022-11-09T09:18:31.225976Z"
    }
   },
   "outputs": [
    {
     "name": "stdout",
     "output_type": "stream",
     "text": [
      "<class 'int'>\n"
     ]
    }
   ],
   "source": [
    "print(type(a))"
   ]
  },
  {
   "cell_type": "code",
   "execution_count": 4,
   "id": "05ac1b8a",
   "metadata": {
    "ExecuteTime": {
     "end_time": "2022-11-09T09:18:31.246918Z",
     "start_time": "2022-11-09T09:18:31.240936Z"
    }
   },
   "outputs": [
    {
     "data": {
      "text/plain": [
       "20"
      ]
     },
     "execution_count": 4,
     "metadata": {},
     "output_type": "execute_result"
    }
   ],
   "source": [
    "a+10"
   ]
  },
  {
   "cell_type": "code",
   "execution_count": 5,
   "id": "426d871d",
   "metadata": {
    "ExecuteTime": {
     "end_time": "2022-11-09T09:18:31.257891Z",
     "start_time": "2022-11-09T09:18:31.249911Z"
    }
   },
   "outputs": [
    {
     "data": {
      "text/plain": [
       "10"
      ]
     },
     "execution_count": 5,
     "metadata": {},
     "output_type": "execute_result"
    }
   ],
   "source": [
    "a"
   ]
  },
  {
   "cell_type": "code",
   "execution_count": 6,
   "id": "0ab79feb",
   "metadata": {
    "ExecuteTime": {
     "end_time": "2022-11-09T09:18:31.266865Z",
     "start_time": "2022-11-09T09:18:31.260881Z"
    }
   },
   "outputs": [],
   "source": [
    "b = a+10"
   ]
  },
  {
   "cell_type": "code",
   "execution_count": 7,
   "id": "7fb269ea",
   "metadata": {
    "ExecuteTime": {
     "end_time": "2022-11-09T09:18:31.277876Z",
     "start_time": "2022-11-09T09:18:31.269858Z"
    }
   },
   "outputs": [
    {
     "data": {
      "text/plain": [
       "20"
      ]
     },
     "execution_count": 7,
     "metadata": {},
     "output_type": "execute_result"
    }
   ],
   "source": [
    "b"
   ]
  },
  {
   "cell_type": "code",
   "execution_count": 8,
   "id": "2eb4ddc3",
   "metadata": {
    "ExecuteTime": {
     "end_time": "2022-11-09T09:18:31.287812Z",
     "start_time": "2022-11-09T09:18:31.280829Z"
    }
   },
   "outputs": [
    {
     "data": {
      "text/plain": [
       "False"
      ]
     },
     "execution_count": 8,
     "metadata": {},
     "output_type": "execute_result"
    }
   ],
   "source": [
    "a == b"
   ]
  },
  {
   "cell_type": "code",
   "execution_count": 9,
   "id": "d9f572c6",
   "metadata": {
    "ExecuteTime": {
     "end_time": "2022-11-09T09:18:31.296784Z",
     "start_time": "2022-11-09T09:18:31.289803Z"
    }
   },
   "outputs": [
    {
     "data": {
      "text/plain": [
       "True"
      ]
     },
     "execution_count": 9,
     "metadata": {},
     "output_type": "execute_result"
    }
   ],
   "source": [
    "a != b"
   ]
  },
  {
   "cell_type": "code",
   "execution_count": 10,
   "id": "80e97659",
   "metadata": {
    "ExecuteTime": {
     "end_time": "2022-11-09T09:18:31.309750Z",
     "start_time": "2022-11-09T09:18:31.301773Z"
    }
   },
   "outputs": [
    {
     "data": {
      "text/plain": [
       "False"
      ]
     },
     "execution_count": 10,
     "metadata": {},
     "output_type": "execute_result"
    }
   ],
   "source": [
    "a>b"
   ]
  },
  {
   "cell_type": "code",
   "execution_count": 11,
   "id": "afef14ea",
   "metadata": {
    "ExecuteTime": {
     "end_time": "2022-11-09T09:18:31.320723Z",
     "start_time": "2022-11-09T09:18:31.312742Z"
    }
   },
   "outputs": [
    {
     "data": {
      "text/plain": [
       "True"
      ]
     },
     "execution_count": 11,
     "metadata": {},
     "output_type": "execute_result"
    }
   ],
   "source": [
    "a<b"
   ]
  },
  {
   "cell_type": "code",
   "execution_count": 12,
   "id": "5696ccf0",
   "metadata": {
    "ExecuteTime": {
     "end_time": "2022-11-09T09:18:31.329696Z",
     "start_time": "2022-11-09T09:18:31.323715Z"
    }
   },
   "outputs": [],
   "source": [
    "#single line comment"
   ]
  },
  {
   "cell_type": "code",
   "execution_count": 13,
   "id": "1bcbc872",
   "metadata": {
    "ExecuteTime": {
     "end_time": "2022-11-09T09:18:31.342667Z",
     "start_time": "2022-11-09T09:18:31.331692Z"
    }
   },
   "outputs": [
    {
     "data": {
      "text/plain": [
       "'This is multiline comment\\nWe are learing Python programming'"
      ]
     },
     "execution_count": 13,
     "metadata": {},
     "output_type": "execute_result"
    }
   ],
   "source": [
    "'''This is multiline comment\n",
    "We are learing Python programming'''"
   ]
  },
  {
   "cell_type": "code",
   "execution_count": 14,
   "id": "815b18f6",
   "metadata": {
    "ExecuteTime": {
     "end_time": "2022-11-09T09:18:31.351638Z",
     "start_time": "2022-11-09T09:18:31.345655Z"
    }
   },
   "outputs": [
    {
     "data": {
      "text/plain": [
       "10"
      ]
     },
     "execution_count": 14,
     "metadata": {},
     "output_type": "execute_result"
    }
   ],
   "source": [
    "'''This is multiline comment\n",
    "We are learing Python programming'''\n",
    "\n",
    "a"
   ]
  },
  {
   "cell_type": "markdown",
   "id": "6b6d0125",
   "metadata": {},
   "source": [
    "# Data types in python"
   ]
  },
  {
   "cell_type": "markdown",
   "id": "ad2956e4",
   "metadata": {},
   "source": [
    "1. Interger, -> Discrete number\n",
    "2. Float,   -> Continuous \n",
    "3. String,   -> Character, words, sentenses\n",
    "4. Boolean,   -> True,False"
   ]
  },
  {
   "cell_type": "code",
   "execution_count": 15,
   "id": "31c1d58a",
   "metadata": {
    "ExecuteTime": {
     "end_time": "2022-11-09T09:18:31.358619Z",
     "start_time": "2022-11-09T09:18:31.353635Z"
    }
   },
   "outputs": [],
   "source": [
    "a = 100\n"
   ]
  },
  {
   "cell_type": "code",
   "execution_count": 16,
   "id": "9326061b",
   "metadata": {
    "ExecuteTime": {
     "end_time": "2022-11-09T09:18:31.368592Z",
     "start_time": "2022-11-09T09:18:31.361612Z"
    }
   },
   "outputs": [
    {
     "data": {
      "text/plain": [
       "int"
      ]
     },
     "execution_count": 16,
     "metadata": {},
     "output_type": "execute_result"
    }
   ],
   "source": [
    "type(a)"
   ]
  },
  {
   "cell_type": "code",
   "execution_count": 17,
   "id": "ff6dbbf3",
   "metadata": {
    "ExecuteTime": {
     "end_time": "2022-11-09T09:18:31.376571Z",
     "start_time": "2022-11-09T09:18:31.371585Z"
    }
   },
   "outputs": [],
   "source": [
    "f = 10.2"
   ]
  },
  {
   "cell_type": "code",
   "execution_count": 18,
   "id": "d3d04bb4",
   "metadata": {
    "ExecuteTime": {
     "end_time": "2022-11-09T09:18:31.386546Z",
     "start_time": "2022-11-09T09:18:31.379564Z"
    }
   },
   "outputs": [
    {
     "name": "stdout",
     "output_type": "stream",
     "text": [
      "10.2\n"
     ]
    },
    {
     "data": {
      "text/plain": [
       "float"
      ]
     },
     "execution_count": 18,
     "metadata": {},
     "output_type": "execute_result"
    }
   ],
   "source": [
    "print(f)\n",
    "type(f)"
   ]
  },
  {
   "cell_type": "code",
   "execution_count": 19,
   "id": "9c5115cd",
   "metadata": {
    "ExecuteTime": {
     "end_time": "2022-11-09T09:18:31.396518Z",
     "start_time": "2022-11-09T09:18:31.389537Z"
    }
   },
   "outputs": [
    {
     "data": {
      "text/plain": [
       "'Hello'"
      ]
     },
     "execution_count": 19,
     "metadata": {},
     "output_type": "execute_result"
    }
   ],
   "source": [
    "s = 'Hello'\n",
    "s"
   ]
  },
  {
   "cell_type": "code",
   "execution_count": 20,
   "id": "c3ae7969",
   "metadata": {
    "ExecuteTime": {
     "end_time": "2022-11-09T09:18:31.404496Z",
     "start_time": "2022-11-09T09:18:31.398513Z"
    }
   },
   "outputs": [
    {
     "name": "stdout",
     "output_type": "stream",
     "text": [
      "Hello\n"
     ]
    }
   ],
   "source": [
    "print(s)"
   ]
  },
  {
   "cell_type": "code",
   "execution_count": 21,
   "id": "2a4c7b22",
   "metadata": {
    "ExecuteTime": {
     "end_time": "2022-11-09T09:18:31.414471Z",
     "start_time": "2022-11-09T09:18:31.408486Z"
    }
   },
   "outputs": [
    {
     "name": "stdout",
     "output_type": "stream",
     "text": [
      "<class 'str'>\n"
     ]
    }
   ],
   "source": [
    "print(type(s))"
   ]
  },
  {
   "cell_type": "code",
   "execution_count": 22,
   "id": "47345347",
   "metadata": {
    "ExecuteTime": {
     "end_time": "2022-11-09T09:18:31.423446Z",
     "start_time": "2022-11-09T09:18:31.416464Z"
    }
   },
   "outputs": [
    {
     "data": {
      "text/plain": [
       "True"
      ]
     },
     "execution_count": 22,
     "metadata": {},
     "output_type": "execute_result"
    }
   ],
   "source": [
    "b = True\n",
    "b"
   ]
  },
  {
   "cell_type": "code",
   "execution_count": 23,
   "id": "984be623",
   "metadata": {
    "ExecuteTime": {
     "end_time": "2022-11-09T09:18:31.432423Z",
     "start_time": "2022-11-09T09:18:31.425440Z"
    }
   },
   "outputs": [
    {
     "data": {
      "text/plain": [
       "bool"
      ]
     },
     "execution_count": 23,
     "metadata": {},
     "output_type": "execute_result"
    }
   ],
   "source": [
    "type(b)"
   ]
  },
  {
   "cell_type": "code",
   "execution_count": 24,
   "id": "af5fa979",
   "metadata": {
    "ExecuteTime": {
     "end_time": "2022-11-09T09:18:31.439403Z",
     "start_time": "2022-11-09T09:18:31.434416Z"
    }
   },
   "outputs": [],
   "source": [
    "# Title : esc + 1\n",
    "# Markdown i.e. note : esc + m"
   ]
  },
  {
   "cell_type": "markdown",
   "id": "f4d1e176",
   "metadata": {},
   "source": [
    "# Typecasting\n",
    "\n",
    "Typecasting used to change datatypes"
   ]
  },
  {
   "cell_type": "code",
   "execution_count": 25,
   "id": "29b70505",
   "metadata": {
    "ExecuteTime": {
     "end_time": "2022-11-09T09:18:31.454363Z",
     "start_time": "2022-11-09T09:18:31.448381Z"
    }
   },
   "outputs": [
    {
     "name": "stdout",
     "output_type": "stream",
     "text": [
      "10.8\n",
      "<class 'float'>\n"
     ]
    }
   ],
   "source": [
    "a = 10.8\n",
    "print(a)\n",
    "print(type(a))"
   ]
  },
  {
   "cell_type": "code",
   "execution_count": 26,
   "id": "2fa05d31",
   "metadata": {
    "ExecuteTime": {
     "end_time": "2022-11-09T09:18:31.465334Z",
     "start_time": "2022-11-09T09:18:31.457357Z"
    }
   },
   "outputs": [
    {
     "data": {
      "text/plain": [
       "10"
      ]
     },
     "execution_count": 26,
     "metadata": {},
     "output_type": "execute_result"
    }
   ],
   "source": [
    "int(a)"
   ]
  },
  {
   "cell_type": "code",
   "execution_count": 27,
   "id": "dc2c16ad",
   "metadata": {
    "ExecuteTime": {
     "end_time": "2022-11-09T09:18:31.475308Z",
     "start_time": "2022-11-09T09:18:31.468329Z"
    }
   },
   "outputs": [
    {
     "data": {
      "text/plain": [
       "'10.8'"
      ]
     },
     "execution_count": 27,
     "metadata": {},
     "output_type": "execute_result"
    }
   ],
   "source": [
    "str(a)"
   ]
  },
  {
   "cell_type": "code",
   "execution_count": 28,
   "id": "a42e0d5c",
   "metadata": {
    "ExecuteTime": {
     "end_time": "2022-11-09T09:18:31.486279Z",
     "start_time": "2022-11-09T09:18:31.478300Z"
    }
   },
   "outputs": [
    {
     "name": "stdout",
     "output_type": "stream",
     "text": [
      "10\n"
     ]
    }
   ],
   "source": [
    "a = int(a)\n",
    "print(a)"
   ]
  },
  {
   "cell_type": "code",
   "execution_count": 29,
   "id": "c751780c",
   "metadata": {
    "ExecuteTime": {
     "end_time": "2022-11-09T09:18:31.497250Z",
     "start_time": "2022-11-09T09:18:31.489272Z"
    }
   },
   "outputs": [
    {
     "data": {
      "text/plain": [
       "int"
      ]
     },
     "execution_count": 29,
     "metadata": {},
     "output_type": "execute_result"
    }
   ],
   "source": [
    "type(a)"
   ]
  },
  {
   "cell_type": "code",
   "execution_count": 30,
   "id": "3bbc4e11",
   "metadata": {
    "ExecuteTime": {
     "end_time": "2022-11-09T09:18:31.505228Z",
     "start_time": "2022-11-09T09:18:31.499243Z"
    }
   },
   "outputs": [
    {
     "name": "stdout",
     "output_type": "stream",
     "text": [
      "200\n",
      "<class 'int'>\n"
     ]
    }
   ],
   "source": [
    "b = 200\n",
    "print(b)\n",
    "print(type(b))"
   ]
  },
  {
   "cell_type": "code",
   "execution_count": 31,
   "id": "85dfbb4c",
   "metadata": {
    "ExecuteTime": {
     "end_time": "2022-11-09T09:18:31.513209Z",
     "start_time": "2022-11-09T09:18:31.507223Z"
    }
   },
   "outputs": [],
   "source": [
    "b = str(b)"
   ]
  },
  {
   "cell_type": "code",
   "execution_count": 32,
   "id": "66547e49",
   "metadata": {
    "ExecuteTime": {
     "end_time": "2022-11-09T09:18:31.524183Z",
     "start_time": "2022-11-09T09:18:31.517200Z"
    }
   },
   "outputs": [
    {
     "name": "stdout",
     "output_type": "stream",
     "text": [
      "200\n",
      "<class 'str'>\n"
     ]
    }
   ],
   "source": [
    "print(b)\n",
    "print(type(b))"
   ]
  },
  {
   "cell_type": "code",
   "execution_count": 33,
   "id": "fac99d5a",
   "metadata": {
    "ExecuteTime": {
     "end_time": "2022-11-09T09:18:31.548114Z",
     "start_time": "2022-11-09T09:18:31.533309Z"
    }
   },
   "outputs": [
    {
     "data": {
      "text/plain": [
       "True"
      ]
     },
     "execution_count": 33,
     "metadata": {},
     "output_type": "execute_result"
    }
   ],
   "source": [
    "# every parameter in bool is true when we typecast it\n",
    "#except 0, which is False\n",
    "a = bool(b)\n",
    "a"
   ]
  },
  {
   "cell_type": "code",
   "execution_count": 34,
   "id": "cc909af0",
   "metadata": {
    "ExecuteTime": {
     "end_time": "2022-11-09T09:18:31.569058Z",
     "start_time": "2022-11-09T09:18:31.553102Z"
    }
   },
   "outputs": [
    {
     "data": {
      "text/plain": [
       "False"
      ]
     },
     "execution_count": 34,
     "metadata": {},
     "output_type": "execute_result"
    }
   ],
   "source": [
    "a = bool(0)\n",
    "bool(a)"
   ]
  },
  {
   "cell_type": "markdown",
   "id": "49c15aaa",
   "metadata": {},
   "source": [
    "# String Methods"
   ]
  },
  {
   "cell_type": "code",
   "execution_count": 35,
   "id": "6db7ced5",
   "metadata": {
    "ExecuteTime": {
     "end_time": "2022-11-09T09:18:31.579030Z",
     "start_time": "2022-11-09T09:18:31.572048Z"
    }
   },
   "outputs": [],
   "source": [
    "s = 'We are learning Python Programming'\n",
    "s1 = \"We are learning Python Programming\"\n",
    "s2 = '''We are learning Python Programming'''"
   ]
  },
  {
   "cell_type": "code",
   "execution_count": 36,
   "id": "667e726a",
   "metadata": {
    "ExecuteTime": {
     "end_time": "2022-11-09T09:18:31.590025Z",
     "start_time": "2022-11-09T09:18:31.582022Z"
    }
   },
   "outputs": [
    {
     "data": {
      "text/plain": [
       "'We are learning Python Programming'"
      ]
     },
     "execution_count": 36,
     "metadata": {},
     "output_type": "execute_result"
    }
   ],
   "source": [
    "s"
   ]
  },
  {
   "cell_type": "code",
   "execution_count": 37,
   "id": "25096f93",
   "metadata": {
    "ExecuteTime": {
     "end_time": "2022-11-09T09:18:31.604961Z",
     "start_time": "2022-11-09T09:18:31.595998Z"
    }
   },
   "outputs": [
    {
     "data": {
      "text/plain": [
       "True"
      ]
     },
     "execution_count": 37,
     "metadata": {},
     "output_type": "execute_result"
    }
   ],
   "source": [
    "s ==s1"
   ]
  },
  {
   "cell_type": "code",
   "execution_count": 38,
   "id": "76273409",
   "metadata": {
    "ExecuteTime": {
     "end_time": "2022-11-09T09:18:31.615943Z",
     "start_time": "2022-11-09T09:18:31.607953Z"
    }
   },
   "outputs": [
    {
     "data": {
      "text/plain": [
       "True"
      ]
     },
     "execution_count": 38,
     "metadata": {},
     "output_type": "execute_result"
    }
   ],
   "source": [
    "s1 == s2"
   ]
  },
  {
   "cell_type": "code",
   "execution_count": 39,
   "id": "9d5d18ab",
   "metadata": {
    "ExecuteTime": {
     "end_time": "2022-11-09T09:18:31.626903Z",
     "start_time": "2022-11-09T09:18:31.618924Z"
    }
   },
   "outputs": [
    {
     "data": {
      "text/plain": [
       "'We are learning python programming'"
      ]
     },
     "execution_count": 39,
     "metadata": {},
     "output_type": "execute_result"
    }
   ],
   "source": [
    "s.capitalize()"
   ]
  },
  {
   "cell_type": "code",
   "execution_count": 40,
   "id": "ba7b47c4",
   "metadata": {
    "ExecuteTime": {
     "end_time": "2022-11-09T09:18:31.644856Z",
     "start_time": "2022-11-09T09:18:31.632906Z"
    }
   },
   "outputs": [
    {
     "data": {
      "text/plain": [
       "0"
      ]
     },
     "execution_count": 40,
     "metadata": {},
     "output_type": "execute_result"
    }
   ],
   "source": [
    "s.count('s')"
   ]
  },
  {
   "cell_type": "code",
   "execution_count": 41,
   "id": "19bd0ea6",
   "metadata": {
    "ExecuteTime": {
     "end_time": "2022-11-09T09:18:31.662806Z",
     "start_time": "2022-11-09T09:18:31.652856Z"
    }
   },
   "outputs": [
    {
     "data": {
      "text/plain": [
       "3"
      ]
     },
     "execution_count": 41,
     "metadata": {},
     "output_type": "execute_result"
    }
   ],
   "source": [
    "s.count('e')"
   ]
  },
  {
   "cell_type": "code",
   "execution_count": 42,
   "id": "d4adf99b",
   "metadata": {
    "ExecuteTime": {
     "end_time": "2022-11-09T09:18:31.675773Z",
     "start_time": "2022-11-09T09:18:31.667794Z"
    }
   },
   "outputs": [
    {
     "data": {
      "text/plain": [
       "1"
      ]
     },
     "execution_count": 42,
     "metadata": {},
     "output_type": "execute_result"
    }
   ],
   "source": [
    "s.count('W')"
   ]
  },
  {
   "cell_type": "code",
   "execution_count": 43,
   "id": "d915e189",
   "metadata": {
    "ExecuteTime": {
     "end_time": "2022-11-09T09:18:31.687740Z",
     "start_time": "2022-11-09T09:18:31.678764Z"
    }
   },
   "outputs": [
    {
     "data": {
      "text/plain": [
       "False"
      ]
     },
     "execution_count": 43,
     "metadata": {},
     "output_type": "execute_result"
    }
   ],
   "source": [
    "s.endswith('G')"
   ]
  },
  {
   "cell_type": "code",
   "execution_count": 44,
   "id": "d23ae980",
   "metadata": {
    "ExecuteTime": {
     "end_time": "2022-11-09T09:18:31.698723Z",
     "start_time": "2022-11-09T09:18:31.690732Z"
    }
   },
   "outputs": [
    {
     "data": {
      "text/plain": [
       "True"
      ]
     },
     "execution_count": 44,
     "metadata": {},
     "output_type": "execute_result"
    }
   ],
   "source": [
    "s.endswith('g')"
   ]
  },
  {
   "cell_type": "code",
   "execution_count": 45,
   "id": "4bcb5277",
   "metadata": {
    "ExecuteTime": {
     "end_time": "2022-11-09T09:18:31.708684Z",
     "start_time": "2022-11-09T09:18:31.701704Z"
    }
   },
   "outputs": [
    {
     "data": {
      "text/plain": [
       "12"
      ]
     },
     "execution_count": 45,
     "metadata": {},
     "output_type": "execute_result"
    }
   ],
   "source": [
    "s.find('ing')   # reutrn index where substring is starting"
   ]
  },
  {
   "cell_type": "code",
   "execution_count": 46,
   "id": "749a2ebf",
   "metadata": {
    "ExecuteTime": {
     "end_time": "2022-11-09T09:18:31.717670Z",
     "start_time": "2022-11-09T09:18:31.710678Z"
    }
   },
   "outputs": [
    {
     "data": {
      "text/plain": [
       "16"
      ]
     },
     "execution_count": 46,
     "metadata": {},
     "output_type": "execute_result"
    }
   ],
   "source": [
    "s.index('P')"
   ]
  },
  {
   "cell_type": "code",
   "execution_count": 47,
   "id": "df44dae0",
   "metadata": {
    "ExecuteTime": {
     "end_time": "2022-11-09T09:18:31.726637Z",
     "start_time": "2022-11-09T09:18:31.719655Z"
    }
   },
   "outputs": [
    {
     "data": {
      "text/plain": [
       "False"
      ]
     },
     "execution_count": 47,
     "metadata": {},
     "output_type": "execute_result"
    }
   ],
   "source": [
    "s.islower()"
   ]
  },
  {
   "cell_type": "code",
   "execution_count": 48,
   "id": "7e03712f",
   "metadata": {
    "ExecuteTime": {
     "end_time": "2022-11-09T09:18:31.735611Z",
     "start_time": "2022-11-09T09:18:31.728630Z"
    }
   },
   "outputs": [
    {
     "data": {
      "text/plain": [
       "'W-e- -a-r-e- -l-e-a-r-n-i-n-g- -P-y-t-h-o-n- -P-r-o-g-r-a-m-m-i-n-g'"
      ]
     },
     "execution_count": 48,
     "metadata": {},
     "output_type": "execute_result"
    }
   ],
   "source": [
    "'-'.join(s)"
   ]
  },
  {
   "cell_type": "code",
   "execution_count": 49,
   "id": "5e712db0",
   "metadata": {
    "ExecuteTime": {
     "end_time": "2022-11-09T09:18:31.745586Z",
     "start_time": "2022-11-09T09:18:31.738604Z"
    }
   },
   "outputs": [
    {
     "data": {
      "text/plain": [
       "'W#e# #a#r#e# #l#e#a#r#n#i#n#g# #P#y#t#h#o#n# #P#r#o#g#r#a#m#m#i#n#g'"
      ]
     },
     "execution_count": 49,
     "metadata": {},
     "output_type": "execute_result"
    }
   ],
   "source": [
    "'#'.join(s)"
   ]
  },
  {
   "cell_type": "code",
   "execution_count": 50,
   "id": "d377bf48",
   "metadata": {
    "ExecuteTime": {
     "end_time": "2022-11-09T09:18:31.754560Z",
     "start_time": "2022-11-09T09:18:31.747580Z"
    }
   },
   "outputs": [
    {
     "data": {
      "text/plain": [
       "'They are learning Python Programming'"
      ]
     },
     "execution_count": 50,
     "metadata": {},
     "output_type": "execute_result"
    }
   ],
   "source": [
    "s.replace(\"We\", \"They\")"
   ]
  },
  {
   "cell_type": "code",
   "execution_count": 51,
   "id": "e8cdbf30",
   "metadata": {
    "ExecuteTime": {
     "end_time": "2022-11-09T09:18:31.764535Z",
     "start_time": "2022-11-09T09:18:31.757553Z"
    }
   },
   "outputs": [
    {
     "data": {
      "text/plain": [
       "'We-are-learning-Python-Programming'"
      ]
     },
     "execution_count": 51,
     "metadata": {},
     "output_type": "execute_result"
    }
   ],
   "source": [
    "s.replace(' ', '-')"
   ]
  },
  {
   "cell_type": "code",
   "execution_count": 52,
   "id": "ae9249d9",
   "metadata": {
    "ExecuteTime": {
     "end_time": "2022-11-09T09:18:31.774509Z",
     "start_time": "2022-11-09T09:18:31.767526Z"
    }
   },
   "outputs": [
    {
     "data": {
      "text/plain": [
       "'We are learning Python Programming'"
      ]
     },
     "execution_count": 52,
     "metadata": {},
     "output_type": "execute_result"
    }
   ],
   "source": [
    "s"
   ]
  },
  {
   "cell_type": "code",
   "execution_count": 53,
   "id": "757bae65",
   "metadata": {
    "ExecuteTime": {
     "end_time": "2022-11-09T09:18:31.784483Z",
     "start_time": "2022-11-09T09:18:31.776501Z"
    }
   },
   "outputs": [
    {
     "data": {
      "text/plain": [
       "['We', 'are', 'learning', 'Python', 'Programming']"
      ]
     },
     "execution_count": 53,
     "metadata": {},
     "output_type": "execute_result"
    }
   ],
   "source": [
    "s.split(' ')"
   ]
  },
  {
   "cell_type": "code",
   "execution_count": 54,
   "id": "5874ce00",
   "metadata": {
    "ExecuteTime": {
     "end_time": "2022-11-09T09:18:31.792462Z",
     "start_time": "2022-11-09T09:18:31.787473Z"
    }
   },
   "outputs": [],
   "source": [
    "q = 'abc@gmail.com'"
   ]
  },
  {
   "cell_type": "code",
   "execution_count": 55,
   "id": "296bd27a",
   "metadata": {
    "ExecuteTime": {
     "end_time": "2022-11-09T09:18:31.802436Z",
     "start_time": "2022-11-09T09:18:31.795453Z"
    }
   },
   "outputs": [
    {
     "data": {
      "text/plain": [
       "['abc', 'gmail.com']"
      ]
     },
     "execution_count": 55,
     "metadata": {},
     "output_type": "execute_result"
    }
   ],
   "source": [
    "q.split('@')"
   ]
  },
  {
   "cell_type": "code",
   "execution_count": 56,
   "id": "d9458037",
   "metadata": {
    "ExecuteTime": {
     "end_time": "2022-11-09T09:18:31.811411Z",
     "start_time": "2022-11-09T09:18:31.804432Z"
    }
   },
   "outputs": [
    {
     "data": {
      "text/plain": [
       "'We are learning Python Programming'"
      ]
     },
     "execution_count": 56,
     "metadata": {},
     "output_type": "execute_result"
    }
   ],
   "source": [
    "s"
   ]
  },
  {
   "cell_type": "code",
   "execution_count": 57,
   "id": "b05c6577",
   "metadata": {
    "ExecuteTime": {
     "end_time": "2022-11-09T09:18:31.847313Z",
     "start_time": "2022-11-09T09:18:31.830359Z"
    }
   },
   "outputs": [
    {
     "data": {
      "text/plain": [
       "'wE ARE LEARNING pYTHON pROGRAMMING'"
      ]
     },
     "execution_count": 57,
     "metadata": {},
     "output_type": "execute_result"
    }
   ],
   "source": [
    "s.swapcase()"
   ]
  },
  {
   "cell_type": "code",
   "execution_count": 58,
   "id": "360f243a",
   "metadata": {
    "ExecuteTime": {
     "end_time": "2022-11-09T09:18:31.857297Z",
     "start_time": "2022-11-09T09:18:31.850305Z"
    }
   },
   "outputs": [
    {
     "data": {
      "text/plain": [
       "'we are learning python programming'"
      ]
     },
     "execution_count": 58,
     "metadata": {},
     "output_type": "execute_result"
    }
   ],
   "source": [
    "s.lower()"
   ]
  },
  {
   "cell_type": "code",
   "execution_count": 59,
   "id": "121a907e",
   "metadata": {
    "ExecuteTime": {
     "end_time": "2022-11-09T09:18:31.869254Z",
     "start_time": "2022-11-09T09:18:31.860279Z"
    }
   },
   "outputs": [
    {
     "data": {
      "text/plain": [
       "'WE ARE LEARNING PYTHON PROGRAMMING'"
      ]
     },
     "execution_count": 59,
     "metadata": {},
     "output_type": "execute_result"
    }
   ],
   "source": [
    "s.upper()"
   ]
  },
  {
   "cell_type": "code",
   "execution_count": 60,
   "id": "7009b266",
   "metadata": {
    "ExecuteTime": {
     "end_time": "2022-11-09T09:18:31.879228Z",
     "start_time": "2022-11-09T09:18:31.871250Z"
    }
   },
   "outputs": [
    {
     "data": {
      "text/plain": [
       "'We Are Learning Python Programming'"
      ]
     },
     "execution_count": 60,
     "metadata": {},
     "output_type": "execute_result"
    }
   ],
   "source": [
    "s.title()"
   ]
  },
  {
   "cell_type": "code",
   "execution_count": 61,
   "id": "1d2fc6ba",
   "metadata": {
    "ExecuteTime": {
     "end_time": "2022-11-09T09:18:31.889202Z",
     "start_time": "2022-11-09T09:18:31.882220Z"
    }
   },
   "outputs": [
    {
     "data": {
      "text/plain": [
       "'We are learning Python Programming We are learning Python Programming'"
      ]
     },
     "execution_count": 61,
     "metadata": {},
     "output_type": "execute_result"
    }
   ],
   "source": [
    "s + \" \" + s1"
   ]
  },
  {
   "cell_type": "code",
   "execution_count": null,
   "id": "e729f4ec",
   "metadata": {},
   "outputs": [],
   "source": []
  },
  {
   "cell_type": "code",
   "execution_count": null,
   "id": "e1c7764c",
   "metadata": {},
   "outputs": [],
   "source": []
  },
  {
   "cell_type": "markdown",
   "id": "c0726d55",
   "metadata": {},
   "source": [
    "# Data Structure\n",
    "1. Lists\n",
    "2. Tuple\n",
    "3. Dictionary\n",
    "4. Sets"
   ]
  },
  {
   "cell_type": "markdown",
   "id": "bcedf0e0",
   "metadata": {},
   "source": [
    "# List\n",
    "\n",
    "1. Lists are the build in data structure in python.\n",
    "2. Lists are heterogenous data structure.\n",
    "3. list are mutable."
   ]
  },
  {
   "cell_type": "code",
   "execution_count": 62,
   "id": "aba32402",
   "metadata": {
    "ExecuteTime": {
     "end_time": "2022-11-09T09:18:31.923110Z",
     "start_time": "2022-11-09T09:18:31.911144Z"
    }
   },
   "outputs": [
    {
     "data": {
      "text/plain": [
       "list"
      ]
     },
     "execution_count": 62,
     "metadata": {},
     "output_type": "execute_result"
    }
   ],
   "source": [
    "#Creating Lists\n",
    "lst = []\n",
    "type(lst)"
   ]
  },
  {
   "cell_type": "code",
   "execution_count": 63,
   "id": "76916939",
   "metadata": {
    "ExecuteTime": {
     "end_time": "2022-11-09T09:18:31.931094Z",
     "start_time": "2022-11-09T09:18:31.925106Z"
    }
   },
   "outputs": [
    {
     "data": {
      "text/plain": [
       "list"
      ]
     },
     "execution_count": 63,
     "metadata": {},
     "output_type": "execute_result"
    }
   ],
   "source": [
    "lst1 = list()\n",
    "type(lst1)"
   ]
  },
  {
   "cell_type": "code",
   "execution_count": 64,
   "id": "c315f587",
   "metadata": {
    "ExecuteTime": {
     "end_time": "2022-11-09T09:18:31.939067Z",
     "start_time": "2022-11-09T09:18:31.933085Z"
    }
   },
   "outputs": [
    {
     "data": {
      "text/plain": [
       "[10, 10.5, 'Hello']"
      ]
     },
     "execution_count": 64,
     "metadata": {},
     "output_type": "execute_result"
    }
   ],
   "source": [
    "lst = [ 10,10.5,'Hello']\n",
    "lst"
   ]
  },
  {
   "cell_type": "code",
   "execution_count": 65,
   "id": "15a75c1c",
   "metadata": {
    "ExecuteTime": {
     "end_time": "2022-11-09T09:18:31.948045Z",
     "start_time": "2022-11-09T09:18:31.941062Z"
    }
   },
   "outputs": [
    {
     "data": {
      "text/plain": [
       "10"
      ]
     },
     "execution_count": 65,
     "metadata": {},
     "output_type": "execute_result"
    }
   ],
   "source": [
    "#Accessing elements from a list\n",
    "lst[0]"
   ]
  },
  {
   "cell_type": "code",
   "execution_count": 66,
   "id": "331cb70f",
   "metadata": {
    "ExecuteTime": {
     "end_time": "2022-11-09T09:18:31.957022Z",
     "start_time": "2022-11-09T09:18:31.950039Z"
    }
   },
   "outputs": [
    {
     "data": {
      "text/plain": [
       "'Hello'"
      ]
     },
     "execution_count": 66,
     "metadata": {},
     "output_type": "execute_result"
    }
   ],
   "source": [
    "lst[2]"
   ]
  },
  {
   "cell_type": "code",
   "execution_count": 67,
   "id": "5083adf0",
   "metadata": {
    "ExecuteTime": {
     "end_time": "2022-11-09T09:18:31.965995Z",
     "start_time": "2022-11-09T09:18:31.959015Z"
    }
   },
   "outputs": [
    {
     "data": {
      "text/plain": [
       "'Hello'"
      ]
     },
     "execution_count": 67,
     "metadata": {},
     "output_type": "execute_result"
    }
   ],
   "source": [
    "lst[-1]"
   ]
  },
  {
   "cell_type": "code",
   "execution_count": 68,
   "id": "fb6d372a",
   "metadata": {
    "ExecuteTime": {
     "end_time": "2022-11-09T09:18:31.972977Z",
     "start_time": "2022-11-09T09:18:31.967990Z"
    }
   },
   "outputs": [],
   "source": [
    "lst = [10,12,1,2,5,4,10.5]"
   ]
  },
  {
   "cell_type": "code",
   "execution_count": 69,
   "id": "a270b925",
   "metadata": {
    "ExecuteTime": {
     "end_time": "2022-11-09T09:18:31.981954Z",
     "start_time": "2022-11-09T09:18:31.974972Z"
    }
   },
   "outputs": [
    {
     "data": {
      "text/plain": [
       "[12, 1, 2, 5]"
      ]
     },
     "execution_count": 69,
     "metadata": {},
     "output_type": "execute_result"
    }
   ],
   "source": [
    "# Silicing \n",
    "lst[1:5]"
   ]
  },
  {
   "cell_type": "code",
   "execution_count": 70,
   "id": "f8efeb9d",
   "metadata": {
    "ExecuteTime": {
     "end_time": "2022-11-09T09:18:31.989932Z",
     "start_time": "2022-11-09T09:18:31.983948Z"
    }
   },
   "outputs": [
    {
     "data": {
      "text/plain": [
       "[5, 4, 10.5]"
      ]
     },
     "execution_count": 70,
     "metadata": {},
     "output_type": "execute_result"
    }
   ],
   "source": [
    "lst[4:]"
   ]
  },
  {
   "cell_type": "code",
   "execution_count": 71,
   "id": "f9dfd1d3",
   "metadata": {
    "ExecuteTime": {
     "end_time": "2022-11-09T09:18:31.996913Z",
     "start_time": "2022-11-09T09:18:31.991926Z"
    }
   },
   "outputs": [],
   "source": [
    "#append"
   ]
  },
  {
   "cell_type": "code",
   "execution_count": 72,
   "id": "34d5c30f",
   "metadata": {
    "ExecuteTime": {
     "end_time": "2022-11-09T09:18:32.003895Z",
     "start_time": "2022-11-09T09:18:31.998908Z"
    }
   },
   "outputs": [],
   "source": [
    "lst.append(500)"
   ]
  },
  {
   "cell_type": "code",
   "execution_count": 73,
   "id": "ebe99f69",
   "metadata": {
    "ExecuteTime": {
     "end_time": "2022-11-09T09:18:32.012870Z",
     "start_time": "2022-11-09T09:18:32.005890Z"
    }
   },
   "outputs": [
    {
     "data": {
      "text/plain": [
       "[10, 12, 1, 2, 5, 4, 10.5, 500]"
      ]
     },
     "execution_count": 73,
     "metadata": {},
     "output_type": "execute_result"
    }
   ],
   "source": [
    "lst"
   ]
  },
  {
   "cell_type": "code",
   "execution_count": 74,
   "id": "69c8fd61",
   "metadata": {
    "ExecuteTime": {
     "end_time": "2022-11-09T09:18:32.019851Z",
     "start_time": "2022-11-09T09:18:32.014865Z"
    }
   },
   "outputs": [],
   "source": [
    "#count"
   ]
  },
  {
   "cell_type": "code",
   "execution_count": 75,
   "id": "204f694f",
   "metadata": {
    "ExecuteTime": {
     "end_time": "2022-11-09T09:18:32.028828Z",
     "start_time": "2022-11-09T09:18:32.022845Z"
    }
   },
   "outputs": [
    {
     "data": {
      "text/plain": [
       "1"
      ]
     },
     "execution_count": 75,
     "metadata": {},
     "output_type": "execute_result"
    }
   ],
   "source": [
    "lst.count(500)"
   ]
  },
  {
   "cell_type": "code",
   "execution_count": 76,
   "id": "f01368d6",
   "metadata": {
    "ExecuteTime": {
     "end_time": "2022-11-09T09:18:32.037805Z",
     "start_time": "2022-11-09T09:18:32.031821Z"
    }
   },
   "outputs": [],
   "source": [
    "#Index"
   ]
  },
  {
   "cell_type": "code",
   "execution_count": 77,
   "id": "0e7dc960",
   "metadata": {
    "ExecuteTime": {
     "end_time": "2022-11-09T09:18:32.051767Z",
     "start_time": "2022-11-09T09:18:32.040799Z"
    }
   },
   "outputs": [
    {
     "data": {
      "text/plain": [
       "7"
      ]
     },
     "execution_count": 77,
     "metadata": {},
     "output_type": "execute_result"
    }
   ],
   "source": [
    "lst.index(500)"
   ]
  },
  {
   "cell_type": "code",
   "execution_count": 78,
   "id": "3d281a3d",
   "metadata": {
    "ExecuteTime": {
     "end_time": "2022-11-09T09:18:32.058748Z",
     "start_time": "2022-11-09T09:18:32.053762Z"
    }
   },
   "outputs": [],
   "source": [
    "#insert"
   ]
  },
  {
   "cell_type": "code",
   "execution_count": 79,
   "id": "47c5f20d",
   "metadata": {
    "ExecuteTime": {
     "end_time": "2022-11-09T09:18:32.067724Z",
     "start_time": "2022-11-09T09:18:32.061741Z"
    }
   },
   "outputs": [],
   "source": [
    "lst.insert(0,'Hello')"
   ]
  },
  {
   "cell_type": "code",
   "execution_count": 80,
   "id": "bcd1dae8",
   "metadata": {
    "ExecuteTime": {
     "end_time": "2022-11-09T09:18:32.077698Z",
     "start_time": "2022-11-09T09:18:32.070718Z"
    }
   },
   "outputs": [
    {
     "data": {
      "text/plain": [
       "['Hello', 10, 12, 1, 2, 5, 4, 10.5, 500]"
      ]
     },
     "execution_count": 80,
     "metadata": {},
     "output_type": "execute_result"
    }
   ],
   "source": [
    "lst"
   ]
  },
  {
   "cell_type": "code",
   "execution_count": 81,
   "id": "c077d567",
   "metadata": {
    "ExecuteTime": {
     "end_time": "2022-11-09T09:18:32.085676Z",
     "start_time": "2022-11-09T09:18:32.080690Z"
    }
   },
   "outputs": [],
   "source": [
    "#pop"
   ]
  },
  {
   "cell_type": "code",
   "execution_count": 82,
   "id": "26fc6593",
   "metadata": {
    "ExecuteTime": {
     "end_time": "2022-11-09T09:18:32.098656Z",
     "start_time": "2022-11-09T09:18:32.089681Z"
    }
   },
   "outputs": [
    {
     "data": {
      "text/plain": [
       "500"
      ]
     },
     "execution_count": 82,
     "metadata": {},
     "output_type": "execute_result"
    }
   ],
   "source": [
    "lst.pop()"
   ]
  },
  {
   "cell_type": "code",
   "execution_count": 83,
   "id": "5c6962c8",
   "metadata": {
    "ExecuteTime": {
     "end_time": "2022-11-09T09:18:32.109612Z",
     "start_time": "2022-11-09T09:18:32.102630Z"
    }
   },
   "outputs": [
    {
     "data": {
      "text/plain": [
       "['Hello', 10, 12, 1, 2, 5, 4, 10.5]"
      ]
     },
     "execution_count": 83,
     "metadata": {},
     "output_type": "execute_result"
    }
   ],
   "source": [
    "lst"
   ]
  },
  {
   "cell_type": "code",
   "execution_count": 84,
   "id": "748b9848",
   "metadata": {
    "ExecuteTime": {
     "end_time": "2022-11-09T09:18:32.117590Z",
     "start_time": "2022-11-09T09:18:32.112606Z"
    }
   },
   "outputs": [],
   "source": [
    "#reverse"
   ]
  },
  {
   "cell_type": "code",
   "execution_count": 85,
   "id": "979b39a1",
   "metadata": {
    "ExecuteTime": {
     "end_time": "2022-11-09T09:18:32.125571Z",
     "start_time": "2022-11-09T09:18:32.120586Z"
    }
   },
   "outputs": [],
   "source": [
    "lst.reverse()"
   ]
  },
  {
   "cell_type": "code",
   "execution_count": 86,
   "id": "71bde0fc",
   "metadata": {
    "ExecuteTime": {
     "end_time": "2022-11-09T09:18:32.135570Z",
     "start_time": "2022-11-09T09:18:32.128562Z"
    }
   },
   "outputs": [
    {
     "data": {
      "text/plain": [
       "[10.5, 4, 5, 2, 1, 12, 10, 'Hello']"
      ]
     },
     "execution_count": 86,
     "metadata": {},
     "output_type": "execute_result"
    }
   ],
   "source": [
    "lst"
   ]
  },
  {
   "cell_type": "code",
   "execution_count": 87,
   "id": "93336ae1",
   "metadata": {
    "ExecuteTime": {
     "end_time": "2022-11-09T09:18:32.140569Z",
     "start_time": "2022-11-09T09:18:32.137565Z"
    }
   },
   "outputs": [],
   "source": [
    "#remove"
   ]
  },
  {
   "cell_type": "code",
   "execution_count": 88,
   "id": "a6cd30a5",
   "metadata": {
    "ExecuteTime": {
     "end_time": "2022-11-09T09:18:32.148536Z",
     "start_time": "2022-11-09T09:18:32.142551Z"
    }
   },
   "outputs": [],
   "source": [
    "lst.remove(10.5)"
   ]
  },
  {
   "cell_type": "code",
   "execution_count": 89,
   "id": "b3239636",
   "metadata": {
    "ExecuteTime": {
     "end_time": "2022-11-09T09:18:32.157511Z",
     "start_time": "2022-11-09T09:18:32.151529Z"
    }
   },
   "outputs": [
    {
     "data": {
      "text/plain": [
       "[4, 5, 2, 1, 12, 10, 'Hello']"
      ]
     },
     "execution_count": 89,
     "metadata": {},
     "output_type": "execute_result"
    }
   ],
   "source": [
    "lst"
   ]
  },
  {
   "cell_type": "code",
   "execution_count": 90,
   "id": "8a6604d3",
   "metadata": {
    "ExecuteTime": {
     "end_time": "2022-11-09T09:18:32.165490Z",
     "start_time": "2022-11-09T09:18:32.159517Z"
    }
   },
   "outputs": [],
   "source": [
    "#replcing element in list"
   ]
  },
  {
   "cell_type": "code",
   "execution_count": 91,
   "id": "bdc712ab",
   "metadata": {
    "ExecuteTime": {
     "end_time": "2022-11-09T09:18:32.173469Z",
     "start_time": "2022-11-09T09:18:32.167487Z"
    }
   },
   "outputs": [],
   "source": [
    "lst[0] = 'Hii'"
   ]
  },
  {
   "cell_type": "code",
   "execution_count": 92,
   "id": "9821535a",
   "metadata": {
    "ExecuteTime": {
     "end_time": "2022-11-09T09:18:32.185437Z",
     "start_time": "2022-11-09T09:18:32.176460Z"
    }
   },
   "outputs": [
    {
     "data": {
      "text/plain": [
       "['Hii', 5, 2, 1, 12, 10, 'Hello']"
      ]
     },
     "execution_count": 92,
     "metadata": {},
     "output_type": "execute_result"
    }
   ],
   "source": [
    "lst"
   ]
  },
  {
   "cell_type": "code",
   "execution_count": null,
   "id": "9000f8cf",
   "metadata": {},
   "outputs": [],
   "source": []
  },
  {
   "cell_type": "markdown",
   "id": "f03c66cb",
   "metadata": {},
   "source": [
    "# Tuple\n",
    "\n",
    "1. Tuple are ordered and heterogenous data structure.\n",
    "2. Tuples are not Immutable\n",
    " "
   ]
  },
  {
   "cell_type": "code",
   "execution_count": 93,
   "id": "e9ebabca",
   "metadata": {
    "ExecuteTime": {
     "end_time": "2022-11-09T09:18:32.197407Z",
     "start_time": "2022-11-09T09:18:32.189426Z"
    }
   },
   "outputs": [
    {
     "data": {
      "text/plain": [
       "tuple"
      ]
     },
     "execution_count": 93,
     "metadata": {},
     "output_type": "execute_result"
    }
   ],
   "source": [
    "t =()\n",
    "type(t)"
   ]
  },
  {
   "cell_type": "code",
   "execution_count": 94,
   "id": "75246e50",
   "metadata": {
    "ExecuteTime": {
     "end_time": "2022-11-09T09:18:32.209374Z",
     "start_time": "2022-11-09T09:18:32.203389Z"
    }
   },
   "outputs": [],
   "source": [
    "t = (10,10.5,'hello',1,2,3,4,5,6)"
   ]
  },
  {
   "cell_type": "code",
   "execution_count": 95,
   "id": "3f84fd9a",
   "metadata": {
    "ExecuteTime": {
     "end_time": "2022-11-09T09:18:32.219347Z",
     "start_time": "2022-11-09T09:18:32.211367Z"
    }
   },
   "outputs": [
    {
     "data": {
      "text/plain": [
       "(10, 10.5, 'hello', 1, 2, 3, 4, 5, 6)"
      ]
     },
     "execution_count": 95,
     "metadata": {},
     "output_type": "execute_result"
    }
   ],
   "source": [
    "t"
   ]
  },
  {
   "cell_type": "code",
   "execution_count": 96,
   "id": "67695b53",
   "metadata": {
    "ExecuteTime": {
     "end_time": "2022-11-09T09:18:32.229320Z",
     "start_time": "2022-11-09T09:18:32.221341Z"
    }
   },
   "outputs": [
    {
     "data": {
      "text/plain": [
       "10"
      ]
     },
     "execution_count": 96,
     "metadata": {},
     "output_type": "execute_result"
    }
   ],
   "source": [
    "#Accessing elements from tuple \n",
    "t[0]"
   ]
  },
  {
   "cell_type": "code",
   "execution_count": 97,
   "id": "2e3812fa",
   "metadata": {
    "ExecuteTime": {
     "end_time": "2022-11-09T09:18:32.238296Z",
     "start_time": "2022-11-09T09:18:32.231314Z"
    }
   },
   "outputs": [
    {
     "data": {
      "text/plain": [
       "'hello'"
      ]
     },
     "execution_count": 97,
     "metadata": {},
     "output_type": "execute_result"
    }
   ],
   "source": [
    "t[2]"
   ]
  },
  {
   "cell_type": "code",
   "execution_count": 98,
   "id": "324ad098",
   "metadata": {
    "ExecuteTime": {
     "end_time": "2022-11-09T09:18:32.249267Z",
     "start_time": "2022-11-09T09:18:32.240291Z"
    }
   },
   "outputs": [
    {
     "data": {
      "text/plain": [
       "(1, 2, 3, 4, 5, 6)"
      ]
     },
     "execution_count": 98,
     "metadata": {},
     "output_type": "execute_result"
    }
   ],
   "source": [
    "t[3:]"
   ]
  },
  {
   "cell_type": "code",
   "execution_count": 99,
   "id": "e92c3008",
   "metadata": {
    "ExecuteTime": {
     "end_time": "2022-11-09T09:18:32.256248Z",
     "start_time": "2022-11-09T09:18:32.251263Z"
    }
   },
   "outputs": [],
   "source": [
    "#count"
   ]
  },
  {
   "cell_type": "code",
   "execution_count": 100,
   "id": "93989081",
   "metadata": {
    "ExecuteTime": {
     "end_time": "2022-11-09T09:18:32.265229Z",
     "start_time": "2022-11-09T09:18:32.258243Z"
    }
   },
   "outputs": [
    {
     "data": {
      "text/plain": [
       "1"
      ]
     },
     "execution_count": 100,
     "metadata": {},
     "output_type": "execute_result"
    }
   ],
   "source": [
    "t.count(4)"
   ]
  },
  {
   "cell_type": "code",
   "execution_count": 101,
   "id": "ab34f16f",
   "metadata": {
    "ExecuteTime": {
     "end_time": "2022-11-09T09:18:32.272205Z",
     "start_time": "2022-11-09T09:18:32.267218Z"
    }
   },
   "outputs": [],
   "source": [
    "#index"
   ]
  },
  {
   "cell_type": "code",
   "execution_count": 102,
   "id": "9d94e1b7",
   "metadata": {
    "ExecuteTime": {
     "end_time": "2022-11-09T09:18:32.283177Z",
     "start_time": "2022-11-09T09:18:32.275198Z"
    }
   },
   "outputs": [
    {
     "data": {
      "text/plain": [
       "7"
      ]
     },
     "execution_count": 102,
     "metadata": {},
     "output_type": "execute_result"
    }
   ],
   "source": [
    "t.index(5)"
   ]
  },
  {
   "cell_type": "code",
   "execution_count": 103,
   "id": "20e634ff",
   "metadata": {
    "ExecuteTime": {
     "end_time": "2022-11-09T09:18:32.291154Z",
     "start_time": "2022-11-09T09:18:32.285171Z"
    }
   },
   "outputs": [],
   "source": [
    "t = list(t)"
   ]
  },
  {
   "cell_type": "code",
   "execution_count": 104,
   "id": "af229658",
   "metadata": {
    "ExecuteTime": {
     "end_time": "2022-11-09T09:18:32.301127Z",
     "start_time": "2022-11-09T09:18:32.294147Z"
    }
   },
   "outputs": [
    {
     "data": {
      "text/plain": [
       "[10, 10.5, 'hello', 1, 2, 3, 4, 5, 6]"
      ]
     },
     "execution_count": 104,
     "metadata": {},
     "output_type": "execute_result"
    }
   ],
   "source": [
    "t"
   ]
  },
  {
   "cell_type": "code",
   "execution_count": 105,
   "id": "22ffea2e",
   "metadata": {
    "ExecuteTime": {
     "end_time": "2022-11-09T09:18:32.310103Z",
     "start_time": "2022-11-09T09:18:32.303123Z"
    }
   },
   "outputs": [
    {
     "data": {
      "text/plain": [
       "list"
      ]
     },
     "execution_count": 105,
     "metadata": {},
     "output_type": "execute_result"
    }
   ],
   "source": [
    "type(t)"
   ]
  },
  {
   "cell_type": "code",
   "execution_count": 106,
   "id": "12155413",
   "metadata": {
    "ExecuteTime": {
     "end_time": "2022-11-09T09:18:32.318082Z",
     "start_time": "2022-11-09T09:18:32.312098Z"
    }
   },
   "outputs": [],
   "source": [
    "t[0] = 100"
   ]
  },
  {
   "cell_type": "code",
   "execution_count": 107,
   "id": "7cc31db8",
   "metadata": {
    "ExecuteTime": {
     "end_time": "2022-11-09T09:18:32.327059Z",
     "start_time": "2022-11-09T09:18:32.320077Z"
    }
   },
   "outputs": [
    {
     "data": {
      "text/plain": [
       "[100, 10.5, 'hello', 1, 2, 3, 4, 5, 6]"
      ]
     },
     "execution_count": 107,
     "metadata": {},
     "output_type": "execute_result"
    }
   ],
   "source": [
    "t"
   ]
  },
  {
   "cell_type": "code",
   "execution_count": 108,
   "id": "4d6ac9a0",
   "metadata": {
    "ExecuteTime": {
     "end_time": "2022-11-09T09:18:32.335039Z",
     "start_time": "2022-11-09T09:18:32.330052Z"
    }
   },
   "outputs": [],
   "source": [
    "t = tuple(t)"
   ]
  },
  {
   "cell_type": "code",
   "execution_count": 109,
   "id": "1499c93e",
   "metadata": {
    "ExecuteTime": {
     "end_time": "2022-11-09T09:18:32.346009Z",
     "start_time": "2022-11-09T09:18:32.338031Z"
    }
   },
   "outputs": [
    {
     "data": {
      "text/plain": [
       "(100, 10.5, 'hello', 1, 2, 3, 4, 5, 6)"
      ]
     },
     "execution_count": 109,
     "metadata": {},
     "output_type": "execute_result"
    }
   ],
   "source": [
    "t"
   ]
  },
  {
   "cell_type": "code",
   "execution_count": 110,
   "id": "4cff777e",
   "metadata": {
    "ExecuteTime": {
     "end_time": "2022-11-09T09:18:32.355984Z",
     "start_time": "2022-11-09T09:18:32.348002Z"
    }
   },
   "outputs": [
    {
     "data": {
      "text/plain": [
       "tuple"
      ]
     },
     "execution_count": 110,
     "metadata": {},
     "output_type": "execute_result"
    }
   ],
   "source": [
    "type(t)"
   ]
  },
  {
   "cell_type": "code",
   "execution_count": null,
   "id": "82afbcbb",
   "metadata": {},
   "outputs": [],
   "source": []
  },
  {
   "cell_type": "code",
   "execution_count": null,
   "id": "81e25ccc",
   "metadata": {},
   "outputs": [],
   "source": []
  },
  {
   "cell_type": "markdown",
   "id": "9472d209",
   "metadata": {},
   "source": [
    "# Dictionary\n",
    "1. Python dictionary are ordered collection of items.\n",
    "2. Dictionary is mutable data structure.\n",
    "3. It has key and value pair."
   ]
  },
  {
   "cell_type": "code",
   "execution_count": 111,
   "id": "759febf6",
   "metadata": {
    "ExecuteTime": {
     "end_time": "2022-11-09T09:18:32.368947Z",
     "start_time": "2022-11-09T09:18:32.359979Z"
    }
   },
   "outputs": [
    {
     "data": {
      "text/plain": [
       "dict"
      ]
     },
     "execution_count": 111,
     "metadata": {},
     "output_type": "execute_result"
    }
   ],
   "source": [
    "# Creating Dictionary\n",
    "d= {}\n",
    "type(d)"
   ]
  },
  {
   "cell_type": "code",
   "execution_count": 112,
   "id": "ee2ecccb",
   "metadata": {
    "ExecuteTime": {
     "end_time": "2022-11-09T09:18:32.377922Z",
     "start_time": "2022-11-09T09:18:32.370942Z"
    }
   },
   "outputs": [
    {
     "data": {
      "text/plain": [
       "dict"
      ]
     },
     "execution_count": 112,
     "metadata": {},
     "output_type": "execute_result"
    }
   ],
   "source": [
    "d1 = dict()\n",
    "type(d1)"
   ]
  },
  {
   "cell_type": "code",
   "execution_count": 113,
   "id": "d46a2d61",
   "metadata": {
    "ExecuteTime": {
     "end_time": "2022-11-09T09:18:32.384904Z",
     "start_time": "2022-11-09T09:18:32.379917Z"
    }
   },
   "outputs": [],
   "source": [
    "#Adding elements in a dictionary\n",
    "d = {1 : 'A', 2 : 'B', 3 : 100, 4 : 50.5}"
   ]
  },
  {
   "cell_type": "code",
   "execution_count": 114,
   "id": "7a7dce93",
   "metadata": {
    "ExecuteTime": {
     "end_time": "2022-11-09T09:18:32.393880Z",
     "start_time": "2022-11-09T09:18:32.386899Z"
    }
   },
   "outputs": [
    {
     "data": {
      "text/plain": [
       "{1: 'A', 2: 'B', 3: 100, 4: 50.5}"
      ]
     },
     "execution_count": 114,
     "metadata": {},
     "output_type": "execute_result"
    }
   ],
   "source": [
    "d"
   ]
  },
  {
   "cell_type": "code",
   "execution_count": 115,
   "id": "d4fe4948",
   "metadata": {
    "ExecuteTime": {
     "end_time": "2022-11-09T09:18:32.400861Z",
     "start_time": "2022-11-09T09:18:32.395874Z"
    }
   },
   "outputs": [],
   "source": [
    "#get"
   ]
  },
  {
   "cell_type": "code",
   "execution_count": 116,
   "id": "a40e2457",
   "metadata": {
    "ExecuteTime": {
     "end_time": "2022-11-09T09:18:32.409837Z",
     "start_time": "2022-11-09T09:18:32.402857Z"
    }
   },
   "outputs": [
    {
     "data": {
      "text/plain": [
       "'B'"
      ]
     },
     "execution_count": 116,
     "metadata": {},
     "output_type": "execute_result"
    }
   ],
   "source": [
    "d.get(2)"
   ]
  },
  {
   "cell_type": "code",
   "execution_count": 117,
   "id": "49ab2df7",
   "metadata": {
    "ExecuteTime": {
     "end_time": "2022-11-09T09:18:32.416818Z",
     "start_time": "2022-11-09T09:18:32.411832Z"
    }
   },
   "outputs": [],
   "source": [
    "#items"
   ]
  },
  {
   "cell_type": "code",
   "execution_count": 118,
   "id": "aa1286b3",
   "metadata": {
    "ExecuteTime": {
     "end_time": "2022-11-09T09:18:32.424798Z",
     "start_time": "2022-11-09T09:18:32.418813Z"
    }
   },
   "outputs": [
    {
     "data": {
      "text/plain": [
       "dict_items([(1, 'A'), (2, 'B'), (3, 100), (4, 50.5)])"
      ]
     },
     "execution_count": 118,
     "metadata": {},
     "output_type": "execute_result"
    }
   ],
   "source": [
    "d.items()"
   ]
  },
  {
   "cell_type": "code",
   "execution_count": 119,
   "id": "6373b636",
   "metadata": {
    "ExecuteTime": {
     "end_time": "2022-11-09T09:18:32.431779Z",
     "start_time": "2022-11-09T09:18:32.426792Z"
    }
   },
   "outputs": [],
   "source": [
    "#keys"
   ]
  },
  {
   "cell_type": "code",
   "execution_count": 120,
   "id": "43dd1e64",
   "metadata": {
    "ExecuteTime": {
     "end_time": "2022-11-09T09:18:32.442558Z",
     "start_time": "2022-11-09T09:18:32.433581Z"
    }
   },
   "outputs": [
    {
     "data": {
      "text/plain": [
       "dict_keys([1, 2, 3, 4])"
      ]
     },
     "execution_count": 120,
     "metadata": {},
     "output_type": "execute_result"
    }
   ],
   "source": [
    "d.keys()"
   ]
  },
  {
   "cell_type": "code",
   "execution_count": 121,
   "id": "2f7f7fd1",
   "metadata": {
    "ExecuteTime": {
     "end_time": "2022-11-09T09:18:32.451533Z",
     "start_time": "2022-11-09T09:18:32.444552Z"
    }
   },
   "outputs": [],
   "source": [
    "#Values"
   ]
  },
  {
   "cell_type": "code",
   "execution_count": 122,
   "id": "0c2b9033",
   "metadata": {
    "ExecuteTime": {
     "end_time": "2022-11-09T09:18:32.461508Z",
     "start_time": "2022-11-09T09:18:32.453528Z"
    }
   },
   "outputs": [
    {
     "data": {
      "text/plain": [
       "dict_values(['A', 'B', 100, 50.5])"
      ]
     },
     "execution_count": 122,
     "metadata": {},
     "output_type": "execute_result"
    }
   ],
   "source": [
    "d.values()"
   ]
  },
  {
   "cell_type": "code",
   "execution_count": 123,
   "id": "721a4f03",
   "metadata": {
    "ExecuteTime": {
     "end_time": "2022-11-09T09:18:32.469487Z",
     "start_time": "2022-11-09T09:18:32.463503Z"
    }
   },
   "outputs": [],
   "source": [
    "# Adding Value (update)"
   ]
  },
  {
   "cell_type": "code",
   "execution_count": 124,
   "id": "329a6b0e",
   "metadata": {
    "ExecuteTime": {
     "end_time": "2022-11-09T09:18:32.480457Z",
     "start_time": "2022-11-09T09:18:32.472480Z"
    }
   },
   "outputs": [],
   "source": [
    "d.update({\"Car\":\"BMW\"})"
   ]
  },
  {
   "cell_type": "code",
   "execution_count": 125,
   "id": "3ae72500",
   "metadata": {
    "ExecuteTime": {
     "end_time": "2022-11-09T09:18:32.492426Z",
     "start_time": "2022-11-09T09:18:32.483448Z"
    }
   },
   "outputs": [
    {
     "data": {
      "text/plain": [
       "{1: 'A', 2: 'B', 3: 100, 4: 50.5, 'Car': 'BMW'}"
      ]
     },
     "execution_count": 125,
     "metadata": {},
     "output_type": "execute_result"
    }
   ],
   "source": [
    "d"
   ]
  },
  {
   "cell_type": "code",
   "execution_count": 126,
   "id": "1e551564",
   "metadata": {
    "ExecuteTime": {
     "end_time": "2022-11-09T09:18:32.504393Z",
     "start_time": "2022-11-09T09:18:32.494420Z"
    }
   },
   "outputs": [],
   "source": [
    "#pop"
   ]
  },
  {
   "cell_type": "code",
   "execution_count": 127,
   "id": "0761b4fd",
   "metadata": {
    "ExecuteTime": {
     "end_time": "2022-11-09T09:18:32.516361Z",
     "start_time": "2022-11-09T09:18:32.508382Z"
    }
   },
   "outputs": [
    {
     "data": {
      "text/plain": [
       "50.5"
      ]
     },
     "execution_count": 127,
     "metadata": {},
     "output_type": "execute_result"
    }
   ],
   "source": [
    "d.pop(4)"
   ]
  },
  {
   "cell_type": "code",
   "execution_count": 128,
   "id": "56647340",
   "metadata": {
    "ExecuteTime": {
     "end_time": "2022-11-09T09:18:32.526343Z",
     "start_time": "2022-11-09T09:18:32.518356Z"
    }
   },
   "outputs": [
    {
     "data": {
      "text/plain": [
       "{1: 'A', 2: 'B', 3: 100, 'Car': 'BMW'}"
      ]
     },
     "execution_count": 128,
     "metadata": {},
     "output_type": "execute_result"
    }
   ],
   "source": [
    "d"
   ]
  },
  {
   "cell_type": "code",
   "execution_count": null,
   "id": "9ccabb0b",
   "metadata": {},
   "outputs": [],
   "source": []
  },
  {
   "cell_type": "code",
   "execution_count": null,
   "id": "8f51ea11",
   "metadata": {},
   "outputs": [],
   "source": []
  },
  {
   "cell_type": "markdown",
   "id": "ed5a5881",
   "metadata": {},
   "source": [
    "# Set\n",
    "\n",
    "1. Set is a collection which is unordered , unindexed.\n",
    "2. Set is immutable\n"
   ]
  },
  {
   "cell_type": "code",
   "execution_count": 129,
   "id": "e5d4f691",
   "metadata": {
    "ExecuteTime": {
     "end_time": "2022-11-09T09:18:32.535310Z",
     "start_time": "2022-11-09T09:18:32.529325Z"
    }
   },
   "outputs": [],
   "source": [
    "s ={}"
   ]
  },
  {
   "cell_type": "code",
   "execution_count": 130,
   "id": "553708eb",
   "metadata": {
    "ExecuteTime": {
     "end_time": "2022-11-09T09:18:32.546280Z",
     "start_time": "2022-11-09T09:18:32.538302Z"
    }
   },
   "outputs": [
    {
     "data": {
      "text/plain": [
       "dict"
      ]
     },
     "execution_count": 130,
     "metadata": {},
     "output_type": "execute_result"
    }
   ],
   "source": [
    "type(s)"
   ]
  },
  {
   "cell_type": "code",
   "execution_count": 131,
   "id": "e05a64fc",
   "metadata": {
    "ExecuteTime": {
     "end_time": "2022-11-09T09:18:32.556257Z",
     "start_time": "2022-11-09T09:18:32.548276Z"
    }
   },
   "outputs": [
    {
     "data": {
      "text/plain": [
       "set"
      ]
     },
     "execution_count": 131,
     "metadata": {},
     "output_type": "execute_result"
    }
   ],
   "source": [
    "s1 = set()\n",
    "type(s1)"
   ]
  },
  {
   "cell_type": "code",
   "execution_count": 132,
   "id": "27e4bb1f",
   "metadata": {
    "ExecuteTime": {
     "end_time": "2022-11-09T09:18:32.564233Z",
     "start_time": "2022-11-09T09:18:32.558248Z"
    }
   },
   "outputs": [],
   "source": [
    "s = {10,12,10.5,25,'hello'}"
   ]
  },
  {
   "cell_type": "code",
   "execution_count": 133,
   "id": "c903aa74",
   "metadata": {
    "ExecuteTime": {
     "end_time": "2022-11-09T09:18:32.574206Z",
     "start_time": "2022-11-09T09:18:32.566228Z"
    }
   },
   "outputs": [
    {
     "data": {
      "text/plain": [
       "{10, 10.5, 12, 25, 'hello'}"
      ]
     },
     "execution_count": 133,
     "metadata": {},
     "output_type": "execute_result"
    }
   ],
   "source": [
    "s"
   ]
  },
  {
   "cell_type": "code",
   "execution_count": 134,
   "id": "5314b7b1",
   "metadata": {
    "ExecuteTime": {
     "end_time": "2022-11-09T09:18:32.583183Z",
     "start_time": "2022-11-09T09:18:32.576201Z"
    }
   },
   "outputs": [
    {
     "data": {
      "text/plain": [
       "set"
      ]
     },
     "execution_count": 134,
     "metadata": {},
     "output_type": "execute_result"
    }
   ],
   "source": [
    "type(s)"
   ]
  },
  {
   "cell_type": "code",
   "execution_count": 135,
   "id": "02eb98ef",
   "metadata": {
    "ExecuteTime": {
     "end_time": "2022-11-09T09:18:32.592160Z",
     "start_time": "2022-11-09T09:18:32.585177Z"
    }
   },
   "outputs": [],
   "source": [
    "s2 = {1,1,1,2,3,4,5,6}    #does not allow duplicate"
   ]
  },
  {
   "cell_type": "code",
   "execution_count": 136,
   "id": "bbae8874",
   "metadata": {
    "ExecuteTime": {
     "end_time": "2022-11-09T09:18:32.609114Z",
     "start_time": "2022-11-09T09:18:32.596150Z"
    }
   },
   "outputs": [
    {
     "data": {
      "text/plain": [
       "{1, 2, 3, 4, 5, 6}"
      ]
     },
     "execution_count": 136,
     "metadata": {},
     "output_type": "execute_result"
    }
   ],
   "source": [
    "s2"
   ]
  },
  {
   "cell_type": "code",
   "execution_count": 137,
   "id": "c576974c",
   "metadata": {
    "ExecuteTime": {
     "end_time": "2022-11-09T09:18:33.229455Z",
     "start_time": "2022-11-09T09:18:32.611107Z"
    }
   },
   "outputs": [
    {
     "ename": "TypeError",
     "evalue": "'set' object is not subscriptable",
     "output_type": "error",
     "traceback": [
      "\u001b[1;31m---------------------------------------------------------------------------\u001b[0m",
      "\u001b[1;31mTypeError\u001b[0m                                 Traceback (most recent call last)",
      "\u001b[1;32m~\\AppData\\Local\\Temp\\ipykernel_8604\\2150662964.py\u001b[0m in \u001b[0;36m<module>\u001b[1;34m\u001b[0m\n\u001b[0;32m      1\u001b[0m \u001b[1;31m# does not support indexing\u001b[0m\u001b[1;33m\u001b[0m\u001b[1;33m\u001b[0m\u001b[0m\n\u001b[1;32m----> 2\u001b[1;33m \u001b[0ms\u001b[0m\u001b[1;33m[\u001b[0m\u001b[1;36m0\u001b[0m\u001b[1;33m]\u001b[0m\u001b[1;33m\u001b[0m\u001b[1;33m\u001b[0m\u001b[0m\n\u001b[0m",
      "\u001b[1;31mTypeError\u001b[0m: 'set' object is not subscriptable"
     ]
    }
   ],
   "source": [
    "# does not support indexing\n",
    "s[0]"
   ]
  },
  {
   "cell_type": "code",
   "execution_count": 142,
   "id": "6e4646fd",
   "metadata": {
    "ExecuteTime": {
     "end_time": "2022-11-09T09:19:31.985449Z",
     "start_time": "2022-11-09T09:19:31.981457Z"
    }
   },
   "outputs": [],
   "source": [
    "#ADD\n",
    "s.add(100)"
   ]
  },
  {
   "cell_type": "code",
   "execution_count": 143,
   "id": "5ce3703d",
   "metadata": {
    "ExecuteTime": {
     "end_time": "2022-11-09T09:19:35.456341Z",
     "start_time": "2022-11-09T09:19:35.445365Z"
    }
   },
   "outputs": [
    {
     "data": {
      "text/plain": [
       "{10, 10.5, 12, 25, 100}"
      ]
     },
     "execution_count": 143,
     "metadata": {},
     "output_type": "execute_result"
    }
   ],
   "source": [
    "s"
   ]
  },
  {
   "cell_type": "code",
   "execution_count": 144,
   "id": "1228c601",
   "metadata": {
    "ExecuteTime": {
     "end_time": "2022-11-09T09:19:35.713490Z",
     "start_time": "2022-11-09T09:19:35.708503Z"
    }
   },
   "outputs": [],
   "source": [
    "#pop"
   ]
  },
  {
   "cell_type": "code",
   "execution_count": 145,
   "id": "693360c5",
   "metadata": {
    "ExecuteTime": {
     "end_time": "2022-11-09T09:19:35.957296Z",
     "start_time": "2022-11-09T09:19:35.947320Z"
    }
   },
   "outputs": [
    {
     "data": {
      "text/plain": [
       "10.5"
      ]
     },
     "execution_count": 145,
     "metadata": {},
     "output_type": "execute_result"
    }
   ],
   "source": [
    "s.pop()"
   ]
  },
  {
   "cell_type": "code",
   "execution_count": 146,
   "id": "236ceafe",
   "metadata": {
    "ExecuteTime": {
     "end_time": "2022-11-09T09:22:34.643345Z",
     "start_time": "2022-11-09T09:22:34.637362Z"
    }
   },
   "outputs": [],
   "source": [
    "a = {\"Apple\",\"Mango\",\"Cherry\"}\n",
    "b = {\"Microsoft\",\"Google\",\"Cherry\"}"
   ]
  },
  {
   "cell_type": "code",
   "execution_count": 148,
   "id": "d1106312",
   "metadata": {
    "ExecuteTime": {
     "end_time": "2022-11-09T09:22:48.116663Z",
     "start_time": "2022-11-09T09:22:48.109681Z"
    }
   },
   "outputs": [
    {
     "data": {
      "text/plain": [
       "{'Apple', 'Mango'}"
      ]
     },
     "execution_count": 148,
     "metadata": {},
     "output_type": "execute_result"
    }
   ],
   "source": [
    "#difference\n",
    "a.difference(b)"
   ]
  },
  {
   "cell_type": "code",
   "execution_count": 149,
   "id": "e9084af9",
   "metadata": {
    "ExecuteTime": {
     "end_time": "2022-11-09T09:23:13.932364Z",
     "start_time": "2022-11-09T09:23:13.927376Z"
    }
   },
   "outputs": [],
   "source": [
    "#Intersection"
   ]
  },
  {
   "cell_type": "code",
   "execution_count": 150,
   "id": "d72dae66",
   "metadata": {
    "ExecuteTime": {
     "end_time": "2022-11-09T09:23:21.097521Z",
     "start_time": "2022-11-09T09:23:21.089508Z"
    }
   },
   "outputs": [
    {
     "data": {
      "text/plain": [
       "{'Cherry'}"
      ]
     },
     "execution_count": 150,
     "metadata": {},
     "output_type": "execute_result"
    }
   ],
   "source": [
    "a.intersection(b)"
   ]
  },
  {
   "cell_type": "code",
   "execution_count": 151,
   "id": "df83fc75",
   "metadata": {
    "ExecuteTime": {
     "end_time": "2022-11-09T09:23:30.295564Z",
     "start_time": "2022-11-09T09:23:30.289572Z"
    }
   },
   "outputs": [],
   "source": [
    "#union"
   ]
  },
  {
   "cell_type": "code",
   "execution_count": 152,
   "id": "c77f2e66",
   "metadata": {
    "ExecuteTime": {
     "end_time": "2022-11-09T09:23:39.620110Z",
     "start_time": "2022-11-09T09:23:39.612131Z"
    }
   },
   "outputs": [
    {
     "data": {
      "text/plain": [
       "{'Apple', 'Cherry', 'Google', 'Mango', 'Microsoft'}"
      ]
     },
     "execution_count": 152,
     "metadata": {},
     "output_type": "execute_result"
    }
   ],
   "source": [
    "a.union(b)"
   ]
  },
  {
   "cell_type": "code",
   "execution_count": null,
   "id": "bd616783",
   "metadata": {},
   "outputs": [],
   "source": []
  }
 ],
 "metadata": {
  "gist": {
   "data": {
    "description": "Practice/Untitled.ipynb",
    "public": false
   },
   "id": ""
  },
  "kernelspec": {
   "display_name": "Python 3 (ipykernel)",
   "language": "python",
   "name": "python3"
  },
  "language_info": {
   "codemirror_mode": {
    "name": "ipython",
    "version": 3
   },
   "file_extension": ".py",
   "mimetype": "text/x-python",
   "name": "python",
   "nbconvert_exporter": "python",
   "pygments_lexer": "ipython3",
   "version": "3.9.13"
  }
 },
 "nbformat": 4,
 "nbformat_minor": 5
}
